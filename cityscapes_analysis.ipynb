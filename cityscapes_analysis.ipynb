{
 "cells": [
  {
   "cell_type": "code",
   "execution_count": 8,
   "metadata": {},
   "outputs": [
    {
     "name": "stdout",
     "output_type": "stream",
     "text": [
      "Mean:  0.3090844516698354\n",
      "Std:  0.17752945677448584\n"
     ]
    }
   ],
   "source": [
    "import numpy as np\n",
    "\n",
    "from PIL import Image, ImageOps\n",
    "\n",
    "\n",
    "from FasterRCNN.cityscapes import Cityscapes\n",
    "\n",
    "\n",
    "cs = Cityscapes(root='/home/bard/Documents/cityscapes', mode='fine', target_type='polygon', transform=None, target_transform=None)\n",
    "\n",
    "images = cs.images\n",
    "\n",
    "# Calculate the mean and std over all images in the dataset\n",
    "mean = 0.\n",
    "std = 0.\n",
    "\n",
    "c = 0\n",
    "for i in range(0, len(images), 3):\n",
    "    c+=1\n",
    "    image = ImageOps.grayscale(Image.open(images[i]).convert(\"RGB\"))\n",
    "    image_np = np.array(image)\n",
    "    image_np = image_np / 255.0\n",
    "    \n",
    "    std += np.std(image_np, axis=(0, 1))\n",
    "    mean += np.mean(image_np, axis=(0, 1))\n",
    "    \n",
    "    \n",
    "mean /= c\n",
    "std /= c\n",
    "\n",
    "print(\"Mean: \", mean)\n",
    "print(\"Std: \", std)\n",
    "\n",
    "    "
   ]
  }
 ],
 "metadata": {
  "kernelspec": {
   "display_name": "venv",
   "language": "python",
   "name": "python3"
  },
  "language_info": {
   "codemirror_mode": {
    "name": "ipython",
    "version": 3
   },
   "file_extension": ".py",
   "mimetype": "text/x-python",
   "name": "python",
   "nbconvert_exporter": "python",
   "pygments_lexer": "ipython3",
   "version": "3.10.12"
  }
 },
 "nbformat": 4,
 "nbformat_minor": 2
}
